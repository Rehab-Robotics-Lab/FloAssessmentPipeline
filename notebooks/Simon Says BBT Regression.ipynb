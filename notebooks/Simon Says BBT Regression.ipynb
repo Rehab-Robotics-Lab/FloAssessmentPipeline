{
 "cells": [
  {
   "cell_type": "code",
   "execution_count": 1,
   "id": "71b60492",
   "metadata": {},
   "outputs": [],
   "source": [
    "import pandas as pd\n",
    "import matplotlib.pyplot as plt\n",
    "import pathlib\n",
    "import seaborn as sns\n",
    "import sklearn.linear_model as linr\n",
    "import sklearn.model_selection as model_selection\n",
    "import numpy as np\n",
    "\n",
    "%matplotlib inline "
   ]
  },
  {
   "cell_type": "code",
   "execution_count": 2,
   "id": "f5480aec",
   "metadata": {},
   "outputs": [],
   "source": [
    "target_dir=pathlib.Path(\"/media/mjsobrep/43CDA61E672B9161/pose/\")\n",
    "results=pd.read_csv(target_dir/\"ss_ch.csv\")"
   ]
  },
  {
   "cell_type": "code",
   "execution_count": 3,
   "id": "5be3af67",
   "metadata": {
    "scrolled": true
   },
   "outputs": [
    {
     "data": {
      "text/html": [
       "<div>\n",
       "<style scoped>\n",
       "    .dataframe tbody tr th:only-of-type {\n",
       "        vertical-align: middle;\n",
       "    }\n",
       "\n",
       "    .dataframe tbody tr th {\n",
       "        vertical-align: top;\n",
       "    }\n",
       "\n",
       "    .dataframe thead th {\n",
       "        text-align: right;\n",
       "    }\n",
       "</style>\n",
       "<table border=\"1\" class=\"dataframe\">\n",
       "  <thead>\n",
       "    <tr style=\"text-align: right;\">\n",
       "      <th></th>\n",
       "      <th>Unnamed: 0</th>\n",
       "      <th>subject</th>\n",
       "      <th>side</th>\n",
       "      <th>bbt</th>\n",
       "      <th>age</th>\n",
       "      <th>convex_hull</th>\n",
       "      <th>arm_length</th>\n",
       "      <th>norm_convex_hull</th>\n",
       "    </tr>\n",
       "  </thead>\n",
       "  <tbody>\n",
       "    <tr>\n",
       "      <th>0</th>\n",
       "      <td>0</td>\n",
       "      <td>23</td>\n",
       "      <td>R</td>\n",
       "      <td>-2.561644</td>\n",
       "      <td>4</td>\n",
       "      <td>3.107215e+07</td>\n",
       "      <td>276.305789</td>\n",
       "      <td>0.351652</td>\n",
       "    </tr>\n",
       "    <tr>\n",
       "      <th>1</th>\n",
       "      <td>1</td>\n",
       "      <td>23</td>\n",
       "      <td>L</td>\n",
       "      <td>-2.561644</td>\n",
       "      <td>4</td>\n",
       "      <td>2.721437e+07</td>\n",
       "      <td>273.391793</td>\n",
       "      <td>0.317946</td>\n",
       "    </tr>\n",
       "    <tr>\n",
       "      <th>2</th>\n",
       "      <td>2</td>\n",
       "      <td>23</td>\n",
       "      <td>R</td>\n",
       "      <td>-2.561644</td>\n",
       "      <td>4</td>\n",
       "      <td>3.619169e+08</td>\n",
       "      <td>1400.678772</td>\n",
       "      <td>0.031442</td>\n",
       "    </tr>\n",
       "    <tr>\n",
       "      <th>3</th>\n",
       "      <td>3</td>\n",
       "      <td>23</td>\n",
       "      <td>L</td>\n",
       "      <td>-2.561644</td>\n",
       "      <td>4</td>\n",
       "      <td>3.569951e+08</td>\n",
       "      <td>940.832840</td>\n",
       "      <td>0.102338</td>\n",
       "    </tr>\n",
       "    <tr>\n",
       "      <th>4</th>\n",
       "      <td>4</td>\n",
       "      <td>44</td>\n",
       "      <td>R</td>\n",
       "      <td>-10.169811</td>\n",
       "      <td>7</td>\n",
       "      <td>1.366290e+07</td>\n",
       "      <td>433.546605</td>\n",
       "      <td>0.040026</td>\n",
       "    </tr>\n",
       "    <tr>\n",
       "      <th>...</th>\n",
       "      <td>...</td>\n",
       "      <td>...</td>\n",
       "      <td>...</td>\n",
       "      <td>...</td>\n",
       "      <td>...</td>\n",
       "      <td>...</td>\n",
       "      <td>...</td>\n",
       "      <td>...</td>\n",
       "    </tr>\n",
       "    <tr>\n",
       "      <th>83</th>\n",
       "      <td>83</td>\n",
       "      <td>20</td>\n",
       "      <td>L</td>\n",
       "      <td>-1.408451</td>\n",
       "      <td>81</td>\n",
       "      <td>6.160530e+08</td>\n",
       "      <td>785.249072</td>\n",
       "      <td>0.303744</td>\n",
       "    </tr>\n",
       "    <tr>\n",
       "      <th>84</th>\n",
       "      <td>84</td>\n",
       "      <td>25</td>\n",
       "      <td>R</td>\n",
       "      <td>-0.704225</td>\n",
       "      <td>76</td>\n",
       "      <td>1.530936e+08</td>\n",
       "      <td>463.183695</td>\n",
       "      <td>0.367797</td>\n",
       "    </tr>\n",
       "    <tr>\n",
       "      <th>85</th>\n",
       "      <td>85</td>\n",
       "      <td>25</td>\n",
       "      <td>L</td>\n",
       "      <td>-0.704225</td>\n",
       "      <td>76</td>\n",
       "      <td>1.181609e+08</td>\n",
       "      <td>472.666067</td>\n",
       "      <td>0.267130</td>\n",
       "    </tr>\n",
       "    <tr>\n",
       "      <th>86</th>\n",
       "      <td>86</td>\n",
       "      <td>25</td>\n",
       "      <td>R</td>\n",
       "      <td>-0.704225</td>\n",
       "      <td>76</td>\n",
       "      <td>1.340427e+08</td>\n",
       "      <td>473.042567</td>\n",
       "      <td>0.302311</td>\n",
       "    </tr>\n",
       "    <tr>\n",
       "      <th>87</th>\n",
       "      <td>87</td>\n",
       "      <td>25</td>\n",
       "      <td>L</td>\n",
       "      <td>-0.704225</td>\n",
       "      <td>76</td>\n",
       "      <td>1.186926e+08</td>\n",
       "      <td>456.510510</td>\n",
       "      <td>0.297840</td>\n",
       "    </tr>\n",
       "  </tbody>\n",
       "</table>\n",
       "<p>88 rows × 8 columns</p>\n",
       "</div>"
      ],
      "text/plain": [
       "    Unnamed: 0  subject side        bbt  age   convex_hull   arm_length  \\\n",
       "0            0       23    R  -2.561644    4  3.107215e+07   276.305789   \n",
       "1            1       23    L  -2.561644    4  2.721437e+07   273.391793   \n",
       "2            2       23    R  -2.561644    4  3.619169e+08  1400.678772   \n",
       "3            3       23    L  -2.561644    4  3.569951e+08   940.832840   \n",
       "4            4       44    R -10.169811    7  1.366290e+07   433.546605   \n",
       "..         ...      ...  ...        ...  ...           ...          ...   \n",
       "83          83       20    L  -1.408451   81  6.160530e+08   785.249072   \n",
       "84          84       25    R  -0.704225   76  1.530936e+08   463.183695   \n",
       "85          85       25    L  -0.704225   76  1.181609e+08   472.666067   \n",
       "86          86       25    R  -0.704225   76  1.340427e+08   473.042567   \n",
       "87          87       25    L  -0.704225   76  1.186926e+08   456.510510   \n",
       "\n",
       "    norm_convex_hull  \n",
       "0           0.351652  \n",
       "1           0.317946  \n",
       "2           0.031442  \n",
       "3           0.102338  \n",
       "4           0.040026  \n",
       "..               ...  \n",
       "83          0.303744  \n",
       "84          0.367797  \n",
       "85          0.267130  \n",
       "86          0.302311  \n",
       "87          0.297840  \n",
       "\n",
       "[88 rows x 8 columns]"
      ]
     },
     "execution_count": 3,
     "metadata": {},
     "output_type": "execute_result"
    }
   ],
   "source": [
    "results"
   ]
  },
  {
   "cell_type": "code",
   "execution_count": 4,
   "id": "07e05a68",
   "metadata": {
    "scrolled": true
   },
   "outputs": [
    {
     "data": {
      "text/plain": [
       "<matplotlib.axes._subplots.AxesSubplot at 0x7fd24561d3d0>"
      ]
     },
     "execution_count": 4,
     "metadata": {},
     "output_type": "execute_result"
    },
    {
     "data": {
      "image/png": "[encoded data removed]",
      "text/plain": [
       "<Figure size 432x288 with 1 Axes>"
      ]
     },
     "metadata": {
      "needs_background": "light"
     },
     "output_type": "display_data"
    }
   ],
   "source": [
    "results.plot(\"age\", \"arm_length\", \"scatter\")"
   ]
  },
  {
   "cell_type": "code",
   "execution_count": 5,
   "id": "74b3a61c",
   "metadata": {
    "scrolled": true
   },
   "outputs": [
    {
     "data": {
      "text/plain": [
       "<seaborn.axisgrid.FacetGrid at 0x7fd243552880>"
      ]
     },
     "execution_count": 5,
     "metadata": {},
     "output_type": "execute_result"
    },
    {
     "data": {
      "image/png": "[encoded data removed]",
      "text/plain": [
       "<Figure size 360x360 with 1 Axes>"
      ]
     },
     "metadata": {
      "needs_background": "light"
     },
     "output_type": "display_data"
    }
   ],
   "source": [
    "sns.lmplot(x='norm_convex_hull',y='bbt',data=results,fit_reg=True) "
   ]
  },
  {
   "cell_type": "code",
   "execution_count": 6,
   "id": "1c861bed",
   "metadata": {},
   "outputs": [],
   "source": [
    "bbt_vals=results['bbt'].values.reshape(-1,1)\n",
    "ch_vals=results['norm_convex_hull'].values.reshape(-1,1)"
   ]
  },
  {
   "cell_type": "code",
   "execution_count": 7,
   "id": "0ec6e6a3",
   "metadata": {},
   "outputs": [
    {
     "name": "stdout",
     "output_type": "stream",
     "text": [
      "bbt z-score=[[3.8452337]]*norm_convex_hull + [-4.24350839] || R^2=0.17658726205851527\n"
     ]
    }
   ],
   "source": [
    "reg=linr.LinearRegression().fit(ch_vals,bbt_vals)\n",
    "print(f'bbt z-score={reg.coef_}*norm_convex_hull + {reg.intercept_} || R^2={reg.score(ch_vals,bbt_vals)}')"
   ]
  },
  {
   "cell_type": "code",
   "execution_count": 8,
   "id": "9a64ebbc",
   "metadata": {},
   "outputs": [
    {
     "name": "stdout",
     "output_type": "stream",
     "text": [
      "MAE: 1.7288276058952519\n"
     ]
    }
   ],
   "source": [
    "lm = linr.LinearRegression()\n",
    "cv = model_selection.LeaveOneOut().split(results) # leave one out doesn't work for linear regression with r^2\n",
    "scores = model_selection.cross_val_score(lm,  ch_vals,bbt_vals, scoring='neg_mean_absolute_error', cv=cv)\n",
    "print(f'MAE: {np.mean(np.absolute(scores))}')"
   ]
  },
  {
   "cell_type": "code",
   "execution_count": 9,
   "id": "d5e8ca71",
   "metadata": {
    "scrolled": true
   },
   "outputs": [
    {
     "data": {
      "text/plain": [
       "<matplotlib.axes._subplots.AxesSubplot at 0x7fd2434dfa90>"
      ]
     },
     "execution_count": 9,
     "metadata": {},
     "output_type": "execute_result"
    },
    {
     "data": {
      "image/png": "[encoded data removed]",
      "text/plain": [
       "<Figure size 432x288 with 1 Axes>"
      ]
     },
     "metadata": {
      "needs_background": "light"
     },
     "output_type": "display_data"
    }
   ],
   "source": [
    "sns.histplot(scores)"
   ]
  },
  {
   "cell_type": "markdown",
   "id": "3373edab",
   "metadata": {},
   "source": [
    "Pretty bad performance. Outliers aren't helping. Let's try RANSAC"
   ]
  },
  {
   "cell_type": "code",
   "execution_count": 10,
   "id": "78a74391",
   "metadata": {},
   "outputs": [
    {
     "name": "stdout",
     "output_type": "stream",
     "text": [
      "MAE: 2.0670517689381724\n"
     ]
    }
   ],
   "source": [
    "lm = linr.RANSACRegressor()\n",
    "cv = model_selection.LeaveOneOut().split(results) # leave one out doesn't work for linear regression with r^2\n",
    "scores = model_selection.cross_val_score(lm,  ch_vals,bbt_vals, scoring='neg_mean_absolute_error', cv=cv)\n",
    "print(f'MAE: {np.mean(np.absolute(scores))}')"
   ]
  },
  {
   "cell_type": "code",
   "execution_count": 11,
   "id": "4c5dfbe3",
   "metadata": {
    "scrolled": true
   },
   "outputs": [
    {
     "data": {
      "text/plain": [
       "<matplotlib.axes._subplots.AxesSubplot at 0x7fd2434153a0>"
      ]
     },
     "execution_count": 11,
     "metadata": {},
     "output_type": "execute_result"
    },
    {
     "data": {
      "image/png": "[encoded data removed]",
      "text/plain": [
       "<Figure size 432x288 with 1 Axes>"
      ]
     },
     "metadata": {
      "needs_background": "light"
     },
     "output_type": "display_data"
    }
   ],
   "source": [
    "sns.histplot(scores)"
   ]
  },
  {
   "cell_type": "code",
   "execution_count": 12,
   "id": "5ba14bb7",
   "metadata": {
    "scrolled": true
   },
   "outputs": [
    {
     "data": {
      "text/plain": [
       "[<matplotlib.lines.Line2D at 0x7fd243354940>]"
      ]
     },
     "execution_count": 12,
     "metadata": {},
     "output_type": "execute_result"
    },
    {
     "data": {
      "image/png": "[encoded data removed]",
      "text/plain": [
       "<Figure size 432x288 with 1 Axes>"
      ]
     },
     "metadata": {
      "needs_background": "light"
     },
     "output_type": "display_data"
    }
   ],
   "source": [
    "plt.scatter(ch_vals, bbt_vals)\n",
    "lm.fit(ch_vals, bbt_vals)\n",
    "xaxis = np.array([ch_vals.min(), ch_vals.max()])\n",
    "yaxis = lm.predict(xaxis.reshape((len(xaxis), 1)))\n",
    "plt.plot(xaxis,yaxis,'r')"
   ]
  },
  {
   "cell_type": "markdown",
   "id": "fbee6bb0",
   "metadata": {},
   "source": [
    "MAE is worse with RANSAC, but the fit is obviously better. MAE might not be the best measure..."
   ]
  }
 ],
 "metadata": {
  "kernelspec": {
   "display_name": "Python 3",
   "language": "python",
   "name": "python3"
  },
  "language_info": {
   "codemirror_mode": {
    "name": "ipython",
    "version": 3
   },
   "file_extension": ".py",
   "mimetype": "text/x-python",
   "name": "python",
   "nbconvert_exporter": "python",
   "pygments_lexer": "ipython3",
   "version": "3.8.10"
  }
 },
 "nbformat": 4,
 "nbformat_minor": 5
}
