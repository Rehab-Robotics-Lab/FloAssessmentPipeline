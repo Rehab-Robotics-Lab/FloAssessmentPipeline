{
 "cells": [
  {
   "cell_type": "code",
   "execution_count": 1,
   "id": "b9c7f2a4",
   "metadata": {},
   "outputs": [],
   "source": [
    "import sys\n",
    "sys.path.append(\"../\")"
   ]
  },
  {
   "cell_type": "code",
   "execution_count": 2,
   "id": "710ca48c",
   "metadata": {},
   "outputs": [],
   "source": [
    "import scipy\n",
    "from post_processing.src import hdf5_tools\n",
    "from post_processing.src import plotting\n",
    "from post_processing.src import filter_joints\n",
    "import matplotlib.pyplot as plt\n",
    "import numpy as np\n",
    "import multiprocessing\n",
    "from platform import python_version\n",
    "\n",
    "%matplotlib inline "
   ]
  },
  {
   "cell_type": "code",
   "execution_count": 3,
   "id": "d38233a8",
   "metadata": {},
   "outputs": [
    {
     "data": {
      "text/plain": [
       "'3.8.10'"
      ]
     },
     "execution_count": 3,
     "metadata": {},
     "output_type": "execute_result"
    }
   ],
   "source": [
    "python_version()"
   ]
  },
  {
   "cell_type": "code",
   "execution_count": 4,
   "id": "c4b43aaa",
   "metadata": {},
   "outputs": [],
   "source": [
    "hdf5_files = hdf5_tools.load_hdf5_files(\"/media/mjsobrep/43CDA61E672B9161/pose\")"
   ]
  },
  {
   "cell_type": "code",
   "execution_count": 5,
   "id": "e352e1d6",
   "metadata": {
    "scrolled": true
   },
   "outputs": [
    {
     "ename": "TypeError",
     "evalue": "tuple indices must be integers or slices, not dict",
     "output_type": "error",
     "traceback": [
      "\u001b[0;31m---------------------------------------------------------------------------\u001b[0m",
      "\u001b[0;31mTypeError\u001b[0m                                 Traceback (most recent call last)",
      "\u001b[0;32m<ipython-input-5-0a15ce043da5>\u001b[0m in \u001b[0;36m<module>\u001b[0;34m\u001b[0m\n\u001b[0;32m----> 1\u001b[0;31m \u001b[0mhdf5_tools\u001b[0m\u001b[0;34m.\u001b[0m\u001b[0mcheck_data\u001b[0m\u001b[0;34m(\u001b[0m\u001b[0mhdf5_files\u001b[0m\u001b[0;34m)\u001b[0m\u001b[0;34m\u001b[0m\u001b[0;34m\u001b[0m\u001b[0m\n\u001b[0m",
      "\u001b[0;32m~/Documents/git/FloAssessmentPipeline/notebooks/../post_processing/src/hdf5_tools.py\u001b[0m in \u001b[0;36mcheck_data\u001b[0;34m(hdf5_files, cutoff)\u001b[0m\n\u001b[1;32m     56\u001b[0m     \u001b[0;32mfor\u001b[0m \u001b[0msubj\u001b[0m \u001b[0;32min\u001b[0m \u001b[0mhdf5_files\u001b[0m\u001b[0;34m:\u001b[0m\u001b[0;34m\u001b[0m\u001b[0;34m\u001b[0m\u001b[0m\n\u001b[1;32m     57\u001b[0m         if (len(\n\u001b[0;32m---> 58\u001b[0;31m             \u001b[0mhdf5_files\u001b[0m\u001b[0;34m[\u001b[0m\u001b[0msubj\u001b[0m\u001b[0;34m]\u001b[0m\u001b[0;34m[\u001b[0m\u001b[0;34m'vid/lower/pose/openpose:25B/keypoints-median5/3d-realsense-raw'\u001b[0m\u001b[0;34m]\u001b[0m\u001b[0;34m\u001b[0m\u001b[0;34m\u001b[0m\u001b[0m\n\u001b[0m\u001b[1;32m     59\u001b[0m         ) < cutoff):\n\u001b[1;32m     60\u001b[0m             \u001b[0mprint\u001b[0m\u001b[0;34m(\u001b[0m\u001b[0;34mf'bad data for {subj} lower camera openpose'\u001b[0m\u001b[0;34m)\u001b[0m\u001b[0;34m\u001b[0m\u001b[0;34m\u001b[0m\u001b[0m\n",
      "\u001b[0;31mTypeError\u001b[0m: tuple indices must be integers or slices, not dict"
     ]
    }
   ],
   "source": [
    "hdf5_tools.check_data(hdf5_files)"
   ]
  },
  {
   "cell_type": "code",
   "execution_count": null,
   "id": "5a92f98d",
   "metadata": {},
   "outputs": [],
   "source": [
    "all_subj=list(hdf5_files.keys())\n",
    "all_subj.remove('060')\n",
    "all_subj.remove('500-3')"
   ]
  },
  {
   "cell_type": "code",
   "execution_count": null,
   "id": "422ec6aa",
   "metadata": {},
   "outputs": [],
   "source": [
    "files_list=[hdf5_files[subj] for subj in all_subj]"
   ]
  },
  {
   "cell_type": "code",
   "execution_count": null,
   "id": "441821af",
   "metadata": {},
   "outputs": [],
   "source": [
    "with multiprocessing.Pool() as pool:\n",
    "    res_all = pool.imap(filter_joints.filter_file, files_list)"
   ]
  },
  {
   "cell_type": "code",
   "execution_count": null,
   "id": "f8b553ff",
   "metadata": {},
   "outputs": [],
   "source": [
    "next(res_all)"
   ]
  },
  {
   "cell_type": "code",
   "execution_count": null,
   "id": "806a26d0",
   "metadata": {
    "scrolled": true
   },
   "outputs": [],
   "source": [
    "res=filter_joints.filter_file(hdf5_files['031'])"
   ]
  },
  {
   "cell_type": "code",
   "execution_count": null,
   "id": "318b57fd",
   "metadata": {
    "scrolled": false
   },
   "outputs": [],
   "source": [
    "gd=res[0]['state']\n",
    "for joint in ['RWrist', 'LWrist','RElbow','LElbow','RShoulder','LShoulder']:\n",
    "    plotting.plot_model_results(gd['time'], gd['raw'][joint], gd['smooth'][joint], title=joint)\n"
   ]
  },
  {
   "cell_type": "code",
   "execution_count": null,
   "id": "fba38c14",
   "metadata": {
    "scrolled": true
   },
   "outputs": [],
   "source": [
    "# 1) subtract shoulder location from values (would be better to come at this from )\n",
    "# 2) add shoulder location (0,0) to list to make convex hull\n",
    "# 3) divide by arm length ^ 3\n",
    "ch=scipy.spatial.ConvexHull(gd['smooth']['RWrist'][:,0:3]-gd['smooth']['RShoulder'][:,0:3])\n",
    "# TODO: include the angular effects of shoulder positions \n",
    "# Could add in shoulder as a point:\n",
    "# ch=scipy.spatial.ConvexHull(np.append(gd['smooth']['RWrist'][:,0:3]-gd['smooth']['RShoulder'][:,0:3],[[0,0,0]],axis=0))"
   ]
  },
  {
   "cell_type": "code",
   "execution_count": null,
   "id": "95776811",
   "metadata": {},
   "outputs": [],
   "source": [
    "forearm_length=np.sqrt(np.sum((gd['smooth']['RWrist'][:,:3]-gd['smooth']['RElbow'][:,:3])**2,axis=1))\n",
    "upper_arm_length=np.sqrt(np.sum((gd['smooth']['RElbow'][:,:3]-gd['smooth']['RShoulder'][:,:3])**2,axis=1))\n",
    "med_arm_length=np.median(forearm_length+upper_arm_length)"
   ]
  },
  {
   "cell_type": "code",
   "execution_count": null,
   "id": "226d2e05",
   "metadata": {},
   "outputs": [],
   "source": [
    "norm_ch = ch.volume/(4/3*np.pi*med_arm_length**3)\n",
    "norm_ch"
   ]
  }
 ],
 "metadata": {
  "kernelspec": {
   "display_name": "Python 3",
   "language": "python",
   "name": "python3"
  },
  "language_info": {
   "codemirror_mode": {
    "name": "ipython",
    "version": 3
   },
   "file_extension": ".py",
   "mimetype": "text/x-python",
   "name": "python",
   "nbconvert_exporter": "python",
   "pygments_lexer": "ipython3",
   "version": "3.8.10"
  }
 },
 "nbformat": 4,
 "nbformat_minor": 5
}
