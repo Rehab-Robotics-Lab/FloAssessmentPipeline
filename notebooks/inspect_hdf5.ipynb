{
 "cells": [
  {
   "cell_type": "markdown",
   "id": "80cd66ae",
   "metadata": {},
   "source": [
    "# Inspect HDF5"
   ]
  },
  {
   "cell_type": "markdown",
   "id": "259532ce",
   "metadata": {},
   "source": [
    "## Setup\n",
    "Pull in the hdf5 file in the terminal using:\n",
    "```{bash}\n",
    "OCI_CLI_AUTH=resource_principal\n",
    "export OCI_CLI_AUTH\n",
    "\n",
    "oci os object get -bn rrl-flo-hdf5 --name <name on bucket, ex: 035/robot/full_data.hdf5> --file <wherever you want to put the file> --parallel-download-count <ex: 36, default: 10> --part-size 1028\n",
    "```\n",
    "\n",
    "Note, you can get an idea for how long this will take by looking at the [shape specs](https://docs.oracle.com/en-us/iaas/Content/Compute/References/computeshapes.htm)\n",
    "\n",
    "This script is tested with the python 3.7 data exploration environment. It is likely that others would work as well."
   ]
  },
  {
   "cell_type": "code",
   "execution_count": 40,
   "id": "17ba3c6f",
   "metadata": {},
   "outputs": [
    {
     "name": "stdout",
     "output_type": "stream",
     "text": [
      "Requirement already satisfied: h5py in ./conda/dataexpl_p37_cpu_v3/lib/python3.7/site-packages (3.6.0)\n",
      "Requirement already satisfied: cached-property in ./conda/dataexpl_p37_cpu_v3/lib/python3.7/site-packages (from h5py) (1.5.2)\n",
      "Requirement already satisfied: numpy>=1.14.5 in ./conda/dataexpl_p37_cpu_v3/lib/python3.7/site-packages (from h5py) (1.21.4)\n",
      "Requirement already satisfied: opencv-python in ./conda/dataexpl_p37_cpu_v3/lib/python3.7/site-packages (4.5.4.60)\n",
      "Requirement already satisfied: numpy>=1.14.5 in ./conda/dataexpl_p37_cpu_v3/lib/python3.7/site-packages (from opencv-python) (1.21.4)\n"
     ]
    }
   ],
   "source": [
    "!pip install h5py\n",
    "!pip install opencv-python"
   ]
  },
  {
   "cell_type": "code",
   "execution_count": 54,
   "id": "89146167",
   "metadata": {},
   "outputs": [],
   "source": [
    "import h5py\n",
    "from ipywidgets import interact, interactive, fixed, interact_manual\n",
    "import ipywidgets as widgets\n",
    "from matplotlib import pyplot as plt\n",
    "import cv2\n",
    "from functools import partial\n",
    "%matplotlib inline "
   ]
  },
  {
   "cell_type": "markdown",
   "id": "97a827ea",
   "metadata": {},
   "source": [
    "### Load File\n",
    "You will need to change the filename:"
   ]
  },
  {
   "cell_type": "code",
   "execution_count": 42,
   "id": "203a69e7",
   "metadata": {},
   "outputs": [],
   "source": [
    "file_name='035/podium/full_data.hdf5'"
   ]
  },
  {
   "cell_type": "code",
   "execution_count": 43,
   "id": "4916687b",
   "metadata": {},
   "outputs": [],
   "source": [
    "f = h5py.File(file_name, 'r')"
   ]
  },
  {
   "cell_type": "markdown",
   "id": "4d71b0b1",
   "metadata": {},
   "source": [
    "## Inspect File\n",
    "\n",
    "### Structure of File"
   ]
  },
  {
   "cell_type": "code",
   "execution_count": 44,
   "id": "2b038b90",
   "metadata": {},
   "outputs": [
    {
     "name": "stdout",
     "output_type": "stream",
     "text": [
      "client_count\n",
      "client_count/data\n",
      "client_count/time\n",
      "diagnostics\n",
      "diagnostics/data\n",
      "diagnostics/time\n",
      "diagnostics_toplevel_state\n",
      "diagnostics_toplevel_state/data\n",
      "diagnostics_toplevel_state/time\n",
      "face_state\n",
      "face_state/data\n",
      "face_state/time\n",
      "game_runner\n",
      "game_runner/actions\n",
      "game_runner/actions/data\n",
      "game_runner/actions/time\n",
      "game_runner/command_opts\n",
      "game_runner/command_opts/data\n",
      "game_runner/command_opts/time\n",
      "game_runner/commands\n",
      "game_runner/commands/data\n",
      "game_runner/commands/time\n",
      "game_runner/def\n",
      "game_runner/def/data\n",
      "game_runner/def/time\n",
      "game_runner/state\n",
      "game_runner/state/data\n",
      "game_runner/state/time\n",
      "game_runner/text\n",
      "game_runner/text/data\n",
      "game_runner/text/time\n",
      "joint_states\n",
      "joint_states/data\n",
      "joint_states/time\n",
      "mobile_base\n",
      "mobile_base/commands\n",
      "mobile_base/commands/velocity\n",
      "mobile_base/commands/velocity/data\n",
      "mobile_base/commands/velocity/time\n",
      "mobile_base/sensors\n",
      "mobile_base/sensors/imu_data\n",
      "mobile_base/sensors/imu_data/data\n",
      "mobile_base/sensors/imu_data/time\n",
      "motor_commands\n",
      "motor_commands/data\n",
      "motor_commands/time\n",
      "move\n",
      "move/available\n",
      "move/available/data\n",
      "move/available/time\n",
      "move/feedback\n",
      "move/feedback/data\n",
      "move/feedback/time\n",
      "move/goal\n",
      "move/goal/data\n",
      "move/goal/time\n",
      "move/result\n",
      "move/result/data\n",
      "move/result/time\n",
      "move/status\n",
      "move/status/data\n",
      "move/status/time\n",
      "odom\n",
      "odom/data\n",
      "odom/time\n",
      "robot_audio\n",
      "robot_audio/audio_relay\n",
      "robot_audio/audio_relay/data\n",
      "robot_audio/audio_relay/time\n",
      "rosout\n",
      "rosout/data\n",
      "rosout/time\n",
      "rosout_agg\n",
      "rosout_agg/data\n",
      "rosout_agg/time\n",
      "sound_play\n",
      "sound_play/cancel\n",
      "sound_play/cancel/data\n",
      "sound_play/cancel/time\n",
      "sound_play/feedback\n",
      "sound_play/feedback/data\n",
      "sound_play/feedback/time\n",
      "sound_play/goal\n",
      "sound_play/goal/data\n",
      "sound_play/goal/time\n",
      "sound_play/result\n",
      "sound_play/result/data\n",
      "sound_play/result/time\n",
      "sound_play/status\n",
      "sound_play/status/data\n",
      "sound_play/status/time\n",
      "stats\n",
      "stats/cpu\n",
      "stats/cpu/data\n",
      "stats/cpu/time\n",
      "stats/hdd\n",
      "stats/hdd/data\n",
      "stats/hdd/time\n",
      "stats/mem\n",
      "stats/mem/data\n",
      "stats/mem/time\n",
      "stats/net\n",
      "stats/net/data\n",
      "stats/net/time\n",
      "tf\n",
      "tf/data\n",
      "tf/time\n",
      "tf_static\n",
      "tf_static/data\n",
      "tf_static/time\n",
      "tts\n",
      "tts/cancel\n",
      "tts/cancel/data\n",
      "tts/cancel/time\n",
      "tts/feedback\n",
      "tts/feedback/data\n",
      "tts/feedback/time\n",
      "tts/goal\n",
      "tts/goal/data\n",
      "tts/goal/time\n",
      "tts/result\n",
      "tts/result/data\n",
      "tts/result/time\n",
      "tts/state\n",
      "tts/state/data\n",
      "tts/state/time\n",
      "tts/status\n",
      "tts/status/data\n",
      "tts/status/time\n",
      "tts/utterances\n",
      "tts/utterances/data\n",
      "tts/utterances/time\n",
      "vid\n",
      "vid/color\n",
      "vid/color/lower\n",
      "vid/color/lower/data\n",
      "vid/color/lower/matched_depth_index\n",
      "vid/color/lower/time\n",
      "vid/color/upper\n",
      "vid/color/upper/data\n",
      "vid/color/upper/matched_depth_index\n",
      "vid/color/upper/time\n",
      "vid/depth\n",
      "vid/depth/lower\n",
      "vid/depth/lower/data\n",
      "vid/depth/lower/time\n",
      "vid/depth/upper\n",
      "vid/depth/upper/data\n",
      "vid/depth/upper/time\n",
      "vid/depth_to_color\n",
      "vid/depth_to_color/lower\n",
      "vid/depth_to_color/lower/data\n",
      "vid/depth_to_color/lower/time\n",
      "vid/depth_to_color/upper\n",
      "vid/depth_to_color/upper/data\n",
      "vid/depth_to_color/upper/time\n"
     ]
    }
   ],
   "source": [
    "def print_attrs(name, obj):\n",
    "    print(name)\n",
    "    \n",
    "f.visititems(print_attrs)"
   ]
  },
  {
   "cell_type": "markdown",
   "id": "ebe30874",
   "metadata": {},
   "source": [
    "### Video Data from File\n",
    "\n",
    "Note: for now, we aren't doing any syncing/looking at timestamps"
   ]
  },
  {
   "cell_type": "code",
   "execution_count": 57,
   "id": "e1a52266",
   "metadata": {},
   "outputs": [
    {
     "data": {
      "application/vnd.jupyter.widget-view+json": {
       "model_id": "f1c7f0a3841f4bcabb41446485ece566",
       "version_major": 2,
       "version_minor": 0
      },
      "text/plain": [
       "interactive(children=(IntSlider(value=10, description='x', max=1569), Output()), _dom_classes=('widget-interac…"
      ]
     },
     "metadata": {},
     "output_type": "display_data"
    },
    {
     "data": {
      "application/vnd.jupyter.widget-view+json": {
       "model_id": "d0bcb60fec2b43bc8676dcaef1f00f49",
       "version_major": 2,
       "version_minor": 0
      },
      "text/plain": [
       "interactive(children=(IntSlider(value=10, description='x', max=7916), Output()), _dom_classes=('widget-interac…"
      ]
     },
     "metadata": {},
     "output_type": "display_data"
    }
   ],
   "source": [
    "for cam in ['upper','lower']:\n",
    "    def show_img(cam, x):\n",
    "        plt.imshow(cv2.cvtColor(f[f'vid/color/{cam}/data'][x,:,:,:], cv2.COLOR_BGR2RGB),interpolation='nearest')\n",
    "        plt.show()\n",
    "    \n",
    "    bnd_show_img = partial(show_img, cam)\n",
    "    bnd_show_img.__name__ = f'{show_img.__name__}_{cam}'\n",
    "    interact(bnd_show_img,  x=widgets.IntSlider(min=0, max=len(f[f'vid/color/{cam}/data'])-1, step=1, value=10))"
   ]
  }
 ],
 "metadata": {
  "kernelspec": {
   "display_name": "Python 3",
   "language": "python",
   "name": "python3"
  },
  "language_info": {
   "codemirror_mode": {
    "name": "ipython",
    "version": 3
   },
   "file_extension": ".py",
   "mimetype": "text/x-python",
   "name": "python",
   "nbconvert_exporter": "python",
   "pygments_lexer": "ipython3",
   "version": "3.8.10"
  }
 },
 "nbformat": 4,
 "nbformat_minor": 5
}
