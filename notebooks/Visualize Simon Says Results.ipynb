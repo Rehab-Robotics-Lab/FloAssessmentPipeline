{
 "cells": [
  {
   "cell_type": "code",
   "execution_count": 1,
   "id": "e12a7e0d",
   "metadata": {},
   "outputs": [],
   "source": [
    "import pandas as pd\n",
    "import matplotlib.pyplot as plt\n",
    "import pathlib\n",
    "import seaborn as sns\n",
    "import sklearn.linear_model as linr\n",
    "import sklearn.model_selection as model_selection\n",
    "import numpy as np\n",
    "\n",
    "%matplotlib inline "
   ]
  },
  {
   "cell_type": "code",
   "execution_count": 2,
   "id": "1bcc1441",
   "metadata": {},
   "outputs": [],
   "source": [
    "target_dir=pathlib.Path(\"/media/mjsobrep/43CDA61E672B9161/pose/\")\n",
    "results=pd.read_csv(target_dir/\"ss_ch.csv\")"
   ]
  },
  {
   "cell_type": "code",
   "execution_count": 3,
   "id": "12b04fd4",
   "metadata": {
    "scrolled": true
   },
   "outputs": [
    {
     "data": {
      "text/html": [
       "<div>\n",
       "<style scoped>\n",
       "    .dataframe tbody tr th:only-of-type {\n",
       "        vertical-align: middle;\n",
       "    }\n",
       "\n",
       "    .dataframe tbody tr th {\n",
       "        vertical-align: top;\n",
       "    }\n",
       "\n",
       "    .dataframe thead th {\n",
       "        text-align: right;\n",
       "    }\n",
       "</style>\n",
       "<table border=\"1\" class=\"dataframe\">\n",
       "  <thead>\n",
       "    <tr style=\"text-align: right;\">\n",
       "      <th></th>\n",
       "      <th>Unnamed: 0</th>\n",
       "      <th>subject</th>\n",
       "      <th>side</th>\n",
       "      <th>bbt</th>\n",
       "      <th>age</th>\n",
       "      <th>convex_hull</th>\n",
       "      <th>arm_length</th>\n",
       "      <th>norm_convex_hull</th>\n",
       "    </tr>\n",
       "  </thead>\n",
       "  <tbody>\n",
       "    <tr>\n",
       "      <th>0</th>\n",
       "      <td>0</td>\n",
       "      <td>23</td>\n",
       "      <td>R</td>\n",
       "      <td>-2.561644</td>\n",
       "      <td>4</td>\n",
       "      <td>&lt;scipy.spatial.qhull.ConvexHull object at 0x7f...</td>\n",
       "      <td>276.305789</td>\n",
       "      <td>0.355603</td>\n",
       "    </tr>\n",
       "    <tr>\n",
       "      <th>1</th>\n",
       "      <td>1</td>\n",
       "      <td>23</td>\n",
       "      <td>L</td>\n",
       "      <td>-2.561644</td>\n",
       "      <td>4</td>\n",
       "      <td>&lt;scipy.spatial.qhull.ConvexHull object at 0x7f...</td>\n",
       "      <td>273.391793</td>\n",
       "      <td>0.324625</td>\n",
       "    </tr>\n",
       "    <tr>\n",
       "      <th>2</th>\n",
       "      <td>2</td>\n",
       "      <td>23</td>\n",
       "      <td>R</td>\n",
       "      <td>-2.561644</td>\n",
       "      <td>4</td>\n",
       "      <td>&lt;scipy.spatial.qhull.ConvexHull object at 0x7f...</td>\n",
       "      <td>1400.678772</td>\n",
       "      <td>0.034215</td>\n",
       "    </tr>\n",
       "    <tr>\n",
       "      <th>3</th>\n",
       "      <td>3</td>\n",
       "      <td>23</td>\n",
       "      <td>L</td>\n",
       "      <td>-2.561644</td>\n",
       "      <td>4</td>\n",
       "      <td>&lt;scipy.spatial.qhull.ConvexHull object at 0x7f...</td>\n",
       "      <td>940.832840</td>\n",
       "      <td>0.104810</td>\n",
       "    </tr>\n",
       "    <tr>\n",
       "      <th>4</th>\n",
       "      <td>4</td>\n",
       "      <td>44</td>\n",
       "      <td>R</td>\n",
       "      <td>-10.169811</td>\n",
       "      <td>7</td>\n",
       "      <td>&lt;scipy.spatial.qhull.ConvexHull object at 0x7f...</td>\n",
       "      <td>433.546605</td>\n",
       "      <td>0.043604</td>\n",
       "    </tr>\n",
       "    <tr>\n",
       "      <th>...</th>\n",
       "      <td>...</td>\n",
       "      <td>...</td>\n",
       "      <td>...</td>\n",
       "      <td>...</td>\n",
       "      <td>...</td>\n",
       "      <td>...</td>\n",
       "      <td>...</td>\n",
       "      <td>...</td>\n",
       "    </tr>\n",
       "    <tr>\n",
       "      <th>83</th>\n",
       "      <td>83</td>\n",
       "      <td>20</td>\n",
       "      <td>L</td>\n",
       "      <td>-1.408451</td>\n",
       "      <td>81</td>\n",
       "      <td>&lt;scipy.spatial.qhull.ConvexHull object at 0x7f...</td>\n",
       "      <td>785.249072</td>\n",
       "      <td>0.306640</td>\n",
       "    </tr>\n",
       "    <tr>\n",
       "      <th>84</th>\n",
       "      <td>84</td>\n",
       "      <td>25</td>\n",
       "      <td>R</td>\n",
       "      <td>-0.704225</td>\n",
       "      <td>76</td>\n",
       "      <td>&lt;scipy.spatial.qhull.ConvexHull object at 0x7f...</td>\n",
       "      <td>463.183695</td>\n",
       "      <td>0.500460</td>\n",
       "    </tr>\n",
       "    <tr>\n",
       "      <th>85</th>\n",
       "      <td>85</td>\n",
       "      <td>25</td>\n",
       "      <td>L</td>\n",
       "      <td>-0.704225</td>\n",
       "      <td>76</td>\n",
       "      <td>&lt;scipy.spatial.qhull.ConvexHull object at 0x7f...</td>\n",
       "      <td>472.666067</td>\n",
       "      <td>0.268890</td>\n",
       "    </tr>\n",
       "    <tr>\n",
       "      <th>86</th>\n",
       "      <td>86</td>\n",
       "      <td>25</td>\n",
       "      <td>R</td>\n",
       "      <td>-0.704225</td>\n",
       "      <td>76</td>\n",
       "      <td>&lt;scipy.spatial.qhull.ConvexHull object at 0x7f...</td>\n",
       "      <td>473.042567</td>\n",
       "      <td>0.310624</td>\n",
       "    </tr>\n",
       "    <tr>\n",
       "      <th>87</th>\n",
       "      <td>87</td>\n",
       "      <td>25</td>\n",
       "      <td>L</td>\n",
       "      <td>-0.704225</td>\n",
       "      <td>76</td>\n",
       "      <td>&lt;scipy.spatial.qhull.ConvexHull object at 0x7f...</td>\n",
       "      <td>456.510510</td>\n",
       "      <td>0.299193</td>\n",
       "    </tr>\n",
       "  </tbody>\n",
       "</table>\n",
       "<p>88 rows × 8 columns</p>\n",
       "</div>"
      ],
      "text/plain": [
       "    Unnamed: 0  subject side        bbt  age  \\\n",
       "0            0       23    R  -2.561644    4   \n",
       "1            1       23    L  -2.561644    4   \n",
       "2            2       23    R  -2.561644    4   \n",
       "3            3       23    L  -2.561644    4   \n",
       "4            4       44    R -10.169811    7   \n",
       "..         ...      ...  ...        ...  ...   \n",
       "83          83       20    L  -1.408451   81   \n",
       "84          84       25    R  -0.704225   76   \n",
       "85          85       25    L  -0.704225   76   \n",
       "86          86       25    R  -0.704225   76   \n",
       "87          87       25    L  -0.704225   76   \n",
       "\n",
       "                                          convex_hull   arm_length  \\\n",
       "0   <scipy.spatial.qhull.ConvexHull object at 0x7f...   276.305789   \n",
       "1   <scipy.spatial.qhull.ConvexHull object at 0x7f...   273.391793   \n",
       "2   <scipy.spatial.qhull.ConvexHull object at 0x7f...  1400.678772   \n",
       "3   <scipy.spatial.qhull.ConvexHull object at 0x7f...   940.832840   \n",
       "4   <scipy.spatial.qhull.ConvexHull object at 0x7f...   433.546605   \n",
       "..                                                ...          ...   \n",
       "83  <scipy.spatial.qhull.ConvexHull object at 0x7f...   785.249072   \n",
       "84  <scipy.spatial.qhull.ConvexHull object at 0x7f...   463.183695   \n",
       "85  <scipy.spatial.qhull.ConvexHull object at 0x7f...   472.666067   \n",
       "86  <scipy.spatial.qhull.ConvexHull object at 0x7f...   473.042567   \n",
       "87  <scipy.spatial.qhull.ConvexHull object at 0x7f...   456.510510   \n",
       "\n",
       "    norm_convex_hull  \n",
       "0           0.355603  \n",
       "1           0.324625  \n",
       "2           0.034215  \n",
       "3           0.104810  \n",
       "4           0.043604  \n",
       "..               ...  \n",
       "83          0.306640  \n",
       "84          0.500460  \n",
       "85          0.268890  \n",
       "86          0.310624  \n",
       "87          0.299193  \n",
       "\n",
       "[88 rows x 8 columns]"
      ]
     },
     "execution_count": 3,
     "metadata": {},
     "output_type": "execute_result"
    }
   ],
   "source": [
    "results"
   ]
  },
  {
   "cell_type": "code",
   "execution_count": 4,
   "id": "0526ac8b",
   "metadata": {
    "scrolled": true
   },
   "outputs": [
    {
     "data": {
      "text/plain": [
       "<matplotlib.axes._subplots.AxesSubplot at 0x7f7798fd4820>"
      ]
     },
     "execution_count": 4,
     "metadata": {},
     "output_type": "execute_result"
    },
    {
     "data": {
      "image/png": "[encoded data removed]",
      "text/plain": [
       "<Figure size 432x288 with 1 Axes>"
      ]
     },
     "metadata": {
      "needs_background": "light"
     },
     "output_type": "display_data"
    }
   ],
   "source": [
    "results.plot(\"age\", \"arm_length\", \"scatter\")"
   ]
  },
  {
   "cell_type": "code",
   "execution_count": 5,
   "id": "1e0b0435",
   "metadata": {
    "scrolled": true
   },
   "outputs": [
    {
     "data": {
      "text/plain": [
       "<seaborn.axisgrid.FacetGrid at 0x7f7796e8fe20>"
      ]
     },
     "execution_count": 5,
     "metadata": {},
     "output_type": "execute_result"
    },
    {
     "data": {
      "image/png": "[encoded data removed]",
      "text/plain": [
       "<Figure size 360x360 with 1 Axes>"
      ]
     },
     "metadata": {
      "needs_background": "light"
     },
     "output_type": "display_data"
    }
   ],
   "source": [
    "sns.lmplot(x='norm_convex_hull',y='bbt',data=results,fit_reg=True) "
   ]
  },
  {
   "cell_type": "code",
   "execution_count": 6,
   "id": "ff7d9dab",
   "metadata": {},
   "outputs": [],
   "source": [
    "bbt_vals=results['bbt'].values.reshape(-1,1)\n",
    "ch_vals=results['norm_convex_hull'].values.reshape(-1,1)"
   ]
  },
  {
   "cell_type": "code",
   "execution_count": 7,
   "id": "8170302d",
   "metadata": {},
   "outputs": [
    {
     "name": "stdout",
     "output_type": "stream",
     "text": [
      "bbt z-score=[[3.44090517]]*norm_convex_hull + [-4.1441708] || R^2=0.1697549950121151\n"
     ]
    }
   ],
   "source": [
    "reg=linr.LinearRegression().fit(ch_vals,bbt_vals)\n",
    "print(f'bbt z-score={reg.coef_}*norm_convex_hull + {reg.intercept_} || R^2={reg.score(ch_vals,bbt_vals)}')"
   ]
  },
  {
   "cell_type": "code",
   "execution_count": 8,
   "id": "adbe011b",
   "metadata": {},
   "outputs": [
    {
     "name": "stdout",
     "output_type": "stream",
     "text": [
      "MAE: 1.7338698380189295\n"
     ]
    }
   ],
   "source": [
    "lm = linr.LinearRegression()\n",
    "cv = model_selection.LeaveOneOut().split(results) # leave one out doesn't work for linear regression with r^2\n",
    "scores = model_selection.cross_val_score(lm,  ch_vals,bbt_vals, scoring='neg_mean_absolute_error', cv=cv)\n",
    "print(f'MAE: {np.mean(np.absolute(scores))}')"
   ]
  },
  {
   "cell_type": "code",
   "execution_count": 9,
   "id": "7edb405a",
   "metadata": {},
   "outputs": [
    {
     "data": {
      "text/plain": [
       "<matplotlib.axes._subplots.AxesSubplot at 0x7f7796e6c250>"
      ]
     },
     "execution_count": 9,
     "metadata": {},
     "output_type": "execute_result"
    },
    {
     "data": {
      "image/png": "[encoded data removed]",
      "text/plain": [
       "<Figure size 432x288 with 1 Axes>"
      ]
     },
     "metadata": {
      "needs_background": "light"
     },
     "output_type": "display_data"
    }
   ],
   "source": [
    "sns.histplot(scores)"
   ]
  }
 ],
 "metadata": {
  "kernelspec": {
   "display_name": "Python 3",
   "language": "python",
   "name": "python3"
  },
  "language_info": {
   "codemirror_mode": {
    "name": "ipython",
    "version": 3
   },
   "file_extension": ".py",
   "mimetype": "text/x-python",
   "name": "python",
   "nbconvert_exporter": "python",
   "pygments_lexer": "ipython3",
   "version": "3.8.10"
  }
 },
 "nbformat": 4,
 "nbformat_minor": 5
}
